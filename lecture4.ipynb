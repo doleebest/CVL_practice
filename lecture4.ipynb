{
 "cells": [
  {
   "cell_type": "code",
   "execution_count": 1,
   "id": "60f257f9",
   "metadata": {},
   "outputs": [],
   "source": [
    "# Importing the libraries  \n",
    "import cv2\n",
    "import numpy as np"
   ]
  },
  {
   "cell_type": "code",
   "execution_count": 3,
   "id": "747e5855",
   "metadata": {},
   "outputs": [],
   "source": [
    "# Reading image\n",
    "image= cv2.imread('image.jpg')"
   ]
  },
  {
   "cell_type": "code",
   "execution_count": 5,
   "id": "c48021c2",
   "metadata": {},
   "outputs": [
    {
     "name": "stdout",
     "output_type": "stream",
     "text": [
      "Original Height and Width 441 x 1280\n"
     ]
    }
   ],
   "source": [
    "#Get orginal height and width\n",
    "# when images are read using OpenCV -> NumPyarrays\n",
    "h,w,c = image.shape\n",
    "print(\"Original Height and Width\", h,\"x\",w)"
   ]
  },
  {
   "cell_type": "code",
   "execution_count": 7,
   "id": "40a42172",
   "metadata": {},
   "outputs": [],
   "source": [
    "#Resizing by specifying width and height\n",
    "#set rows and columns\n",
    "#lets downsize the image using new width and height\n",
    "down_width = 300\n",
    "down_height = 200\n",
    "down_points = (down_width, down_height)\n",
    "resize_down = cv2.resize(image, down_points, interpolation=cv2.INTER_LINEAR)"
   ]
  },
  {
   "cell_type": "code",
   "execution_count": null,
   "id": "e54fc2b3",
   "metadata": {},
   "outputs": [],
   "source": []
  }
 ],
 "metadata": {
  "kernelspec": {
   "display_name": "Python 3 (ipykernel)",
   "language": "python",
   "name": "python3"
  },
  "language_info": {
   "codemirror_mode": {
    "name": "ipython",
    "version": 3
   },
   "file_extension": ".py",
   "mimetype": "text/x-python",
   "name": "python",
   "nbconvert_exporter": "python",
   "pygments_lexer": "ipython3",
   "version": "3.11.5"
  }
 },
 "nbformat": 4,
 "nbformat_minor": 5
}
