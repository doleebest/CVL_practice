{
 "cells": [
  {
   "cell_type": "markdown",
   "metadata": {},
   "source": [
    "## Time to apply to Video! </br>\n",
    "the next step would be to analyze these for the whole video. </br>\n",
    "So keep the background image, load every new frame of the video, run your calculations, and then save it to a video file. This tutorial might be helpful."
   ]
  },
  {
   "cell_type": "code",
   "execution_count": 1,
   "metadata": {},
   "outputs": [
    {
     "name": "stdout",
     "output_type": "stream",
     "text": [
      "Error opening the video file\n"
     ]
    },
    {
     "name": "stderr",
     "output_type": "stream",
     "text": [
      "OpenCV: Couldn't read video stream from file \"Resources/Cars.mp4\"\n"
     ]
    }
   ],
   "source": [
    "# example codes\n",
    "# reference : https://learnopencv.com/reading-and-writing-videos-using-opencv/\n",
    "import cv2 \n",
    " \n",
    "# Create a video capture object, in this case we are reading the video from a file\n",
    "vid_capture = cv2.VideoCapture('Resources/Cars.mp4')\n",
    " \n",
    "if (vid_capture.isOpened() == False):\n",
    "  print(\"Error opening the video file\")\n",
    "# Read fps and frame count\n",
    "else:\n",
    "  # Get frame rate information\n",
    "  # You can replace 5 with CAP_PROP_FPS as well, they are enumerations\n",
    "  fps = vid_capture.get(5)\n",
    "  print('Frames per second : ', fps,'FPS')\n",
    " \n",
    "  # Get frame count\n",
    "  # You can replace 7 with CAP_PROP_FRAME_COUNT as well, they are enumerations\n",
    "  frame_count = vid_capture.get(7)\n",
    "  print('Frame count : ', frame_count)\n",
    " \n",
    "while(vid_capture.isOpened()):\n",
    "  # vid_capture.read() methods returns a tuple, first element is a bool \n",
    "  # and the second is frame\n",
    "  ret, frame = vid_capture.read()\n",
    "  if ret == True:\n",
    "    cv2.imshow('Frame',frame)\n",
    "    # 20 is in milliseconds, try to increase the value, say 50 and observe\n",
    "    key = cv2.waitKey(20)\n",
    "     \n",
    "    if key == ord('q'):\n",
    "      break\n",
    "  else:\n",
    "    break\n",
    " \n",
    "# Release the video capture object\n",
    "vid_capture.release()\n",
    "cv2.destroyAllWindows()"
   ]
  },
  {
   "cell_type": "code",
   "execution_count": null,
   "metadata": {},
   "outputs": [],
   "source": [
    "import os\n",
    "\n",
    "color_filenames = os.listdir(\"color\")\n",
    "depth_filenames = os.listdir(\"depth\")\n",
    "\n",
    "background_depth = loadImage(depth_filenames[0])\n",
    "\n",
    "result_vid = cv.VideoWriter \n",
    "\n",
    "prev_bounding_box = ...\n",
    "\n",
    "for i in range(depth_filenames):\n",
    "\n",
    "    load Image\n",
    "\n",
    "    take depth difference\n",
    "\n",
    "    process bounding box\n",
    "\n",
    "    \n",
    " # calculating the bounding box i/u\n",
    "\n",
    "    result_vid.write(image)\n",
    "\n",
    "result_vid.release()"
   ]
  },
  {
   "cell_type": "code",
   "execution_count": 2,
   "metadata": {},
   "outputs": [
    {
     "data": {
      "image/png": "[encoded data removed]",
      "text/plain": [
       "<Figure size 640x480 with 1 Axes>"
      ]
     },
     "metadata": {},
     "output_type": "display_data"
    }
   ],
   "source": [
    "import matplotlib.pyplot as plt\n",
    "\n",
    "# x와 y 좌표를 리스트로 정의\n",
    "y_coords = [1,1,0.66,0.66,0.66,0.66,0.625,0.65,0.58,0.58,0.58,0.58,0.53,0.5,0.5,0.5,0.47,0.47,0.47,0.45,0.42]  # x 좌표 리스트\n",
    "x_coords = [0.111111111,0.222222222,0.222222222,0.222222222,0.333333333,0.444444444,0.555555556,0.555555556,0.555555556,0.555555556,0.666666667,0.777777778,0.777777778,0.777777778,0.777777778,0.888888889,0.888888889,0.888888889,1,1,1]  # y 좌표 리스트\n",
    "\n",
    "# 그래프 그리기\n",
    "plt.plot(x_coords, y_coords)\n",
    "\n",
    "# 그래프 타이틀 설정\n",
    "plt.title('graph')\n",
    "\n",
    "# x축 레이블 설정\n",
    "plt.xlabel('recall')\n",
    "\n",
    "# y축 레이블 설정\n",
    "plt.ylabel('interpolated precision')\n",
    "\n",
    "# 그래프 보여주기\n",
    "plt.show()"
   ]
  }
 ],
 "metadata": {
  "kernelspec": {
   "display_name": "OpenCV-master-py3",
   "language": "python",
   "name": "python3"
  },
  "language_info": {
   "codemirror_mode": {
    "name": "ipython",
    "version": 3
   },
   "file_extension": ".py",
   "mimetype": "text/x-python",
   "name": "python",
   "nbconvert_exporter": "python",
   "pygments_lexer": "ipython3",
   "version": "3.11.5"
  }
 },
 "nbformat": 4,
 "nbformat_minor": 2
}
